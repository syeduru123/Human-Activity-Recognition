{
  "nbformat": 4,
  "nbformat_minor": 0,
  "metadata": {
    "accelerator": "GPU",
    "colab": {
      "name": "HAR_LSTM_DP.ipynb",
      "provenance": [],
      "collapsed_sections": [],
      "toc_visible": true
    },
    "kernelspec": {
      "display_name": "Python 3",
      "language": "python",
      "name": "python3"
    },
    "language_info": {
      "codemirror_mode": {
        "name": "ipython",
        "version": 3
      },
      "file_extension": ".py",
      "mimetype": "text/x-python",
      "name": "python",
      "nbconvert_exporter": "python",
      "pygments_lexer": "ipython3",
      "version": "3.6.1"
    }
  },
  "cells": [
    {
      "cell_type": "code",
      "metadata": {
        "id": "gUsbLMw0ByMk"
      },
      "source": [
        "# Importing Libraries"
      ],
      "execution_count": null,
      "outputs": []
    },
    {
      "cell_type": "code",
      "metadata": {
        "id": "fY1rOpLeByMk"
      },
      "source": [
        "import pandas as pd\n",
        "import numpy as np\n",
        "import os\n",
        "import io\n",
        "from keras.models import Sequential\n",
        "from keras.models import Model\n",
        "from keras.layers import Input\n",
        "from keras.layers import Dense\n",
        "from keras.layers import Dropout\n",
        "from keras.layers.recurrent import LSTM\n",
        "from keras.layers.merge import add\n",
        "from keras.layers.embeddings import Embedding\n",
        "np.random.seed(42)\n",
        "import tensorflow as tf\n",
        "from keras.models import load_model "
      ],
      "execution_count": null,
      "outputs": []
    },
    {
      "cell_type": "code",
      "metadata": {
        "id": "dZ3Gm4LCByMl"
      },
      "source": [
        "# Activities are the class labels\n",
        "# It is a 6 class classification\n",
        "ACTIVITIES = {\n",
        "    0: 'WALKING',\n",
        "    1: 'WALKING_UPSTAIRS',\n",
        "    2: 'WALKING_DOWNSTAIRS',\n",
        "    3: 'SITTING',\n",
        "    4: 'STANDING',\n",
        "    5: 'LAYING',\n",
        "}\n",
        "\n",
        "# Utility function to print the confusion matrix\n",
        "def confusion_matrix(Y_true, Y_pred):\n",
        "    Y_true = pd.Series([ACTIVITIES[y] for y in np.argmax(Y_true, axis=1)])\n",
        "    Y_pred = pd.Series([ACTIVITIES[y] for y in np.argmax(Y_pred, axis=1)])\n",
        "\n",
        "    return pd.crosstab(Y_true, Y_pred, rownames=['True'], colnames=['Pred'])"
      ],
      "execution_count": null,
      "outputs": []
    },
    {
      "cell_type": "code",
      "metadata": {
        "colab": {
          "base_uri": "https://localhost:8080/"
        },
        "id": "cqbaa0sICLQS",
        "outputId": "7d0d86c4-9a1f-4800-85a3-c3855b123b0e"
      },
      "source": [
        "from google.colab import drive\n",
        "drive.mount('/content/drive')"
      ],
      "execution_count": null,
      "outputs": [
        {
          "output_type": "stream",
          "text": [
            "Mounted at /content/drive\n"
          ],
          "name": "stdout"
        }
      ]
    },
    {
      "cell_type": "code",
      "metadata": {
        "id": "9mrLBlXgEQyv"
      },
      "source": [
        "os.chdir('/content/drive/My Drive/DPProject')"
      ],
      "execution_count": null,
      "outputs": []
    },
    {
      "cell_type": "markdown",
      "metadata": {
        "id": "zC69gOzxByMl"
      },
      "source": [
        "### Data"
      ]
    },
    {
      "cell_type": "code",
      "metadata": {
        "id": "DJ1Lv9jvByMl"
      },
      "source": [
        "# Data directory\n",
        "\n",
        "DATADIR = 'UCI_HAR_Dataset'\n"
      ],
      "execution_count": null,
      "outputs": []
    },
    {
      "cell_type": "code",
      "metadata": {
        "id": "RFJF7KoVByMl"
      },
      "source": [
        "# Raw data signals\n",
        "# Signals are from Accelerometer and Gyroscope\n",
        "# The signals are in x,y,z directions\n",
        "# Sensor signals are filtered to have only body acceleration\n",
        "# excluding the acceleration due to gravity\n",
        "# Triaxial acceleration from the accelerometer is total acceleration\n",
        "SIGNALS = [\n",
        "    \"body_acc_x\",\n",
        "    \"body_acc_y\",\n",
        "    \"body_acc_z\",\n",
        "    \"body_gyro_x\",\n",
        "    \"body_gyro_y\",\n",
        "    \"body_gyro_z\",\n",
        "    \"total_acc_x\",\n",
        "    \"total_acc_y\",\n",
        "    \"total_acc_z\"\n",
        "]"
      ],
      "execution_count": null,
      "outputs": []
    },
    {
      "cell_type": "code",
      "metadata": {
        "id": "fn_mOokSByMl"
      },
      "source": [
        "# Utility function to read the data from csv file\n",
        "def _read_csv(filename):\n",
        "    return pd.read_csv(filename, delim_whitespace=True, header=None)\n",
        "\n",
        "# Utility function to load the load\n",
        "def load_signals(subset):\n",
        "    signals_data = []\n",
        "\n",
        "    for signal in SIGNALS:\n",
        "        filename = f'UCI_HAR_Dataset/{subset}/Inertial Signals/{signal}_{subset}.txt'\n",
        "        signals_data.append(\n",
        "            #_read_csv(filename).as_matrix()\n",
        "            _read_csv(filename).to_numpy()\n",
        "        ) \n",
        "\n",
        "    # Transpose is used to change the dimensionality of the output,\n",
        "    # aggregating the signals by combination of sample/timestep.\n",
        "    # Resultant shape is (7352 train/2947 test samples, 128 timesteps, 9 signals)\n",
        "    return np.transpose(signals_data, (1, 2, 0))"
      ],
      "execution_count": null,
      "outputs": []
    },
    {
      "cell_type": "code",
      "metadata": {
        "id": "YHRBcUB0ByMl"
      },
      "source": [
        "\n",
        "def load_y(subset):\n",
        "    \"\"\"\n",
        "    The objective that we are trying to predict is a integer, from 1 to 6,\n",
        "    that represents a human activity. We return a binary representation of \n",
        "    every sample objective as a 6 bits vector using One Hot Encoding\n",
        "    (https://pandas.pydata.org/pandas-docs/stable/generated/pandas.get_dummies.html)\n",
        "    \"\"\"\n",
        "    filename = f'UCI_HAR_Dataset/{subset}/y_{subset}.txt'\n",
        "    y = _read_csv(filename)[0]\n",
        "\n",
        "    return pd.get_dummies(y).to_numpy()"
      ],
      "execution_count": null,
      "outputs": []
    },
    {
      "cell_type": "code",
      "metadata": {
        "id": "J_1bfZg3ByMl"
      },
      "source": [
        "def load_data():\n",
        "    \"\"\"\n",
        "    Obtain the dataset from multiple files.\n",
        "    Returns: X_train, X_test, y_train, y_test\n",
        "    \"\"\"\n",
        "    X_train, X_test = load_signals('train'), load_signals('test')\n",
        "    y_train, y_test = load_y('train'), load_y('test')\n",
        "\n",
        "    return X_train, X_test, y_train, y_test"
      ],
      "execution_count": null,
      "outputs": []
    },
    {
      "cell_type": "code",
      "metadata": {
        "id": "aNaLQprAByMl"
      },
      "source": [
        "# Initializing parameters\n",
        "epochs = 30\n",
        "batch_size = 16\n",
        "n_hidden = 32"
      ],
      "execution_count": null,
      "outputs": []
    },
    {
      "cell_type": "code",
      "metadata": {
        "id": "iIv8aPxAByMl"
      },
      "source": [
        "# Utility function to count the number of classes\n",
        "def _count_classes(y):\n",
        "    return len(set([tuple(category) for category in y]))"
      ],
      "execution_count": null,
      "outputs": []
    },
    {
      "cell_type": "code",
      "metadata": {
        "id": "rVNXEdtIByMl"
      },
      "source": [
        "# Loading the train and test data\n",
        "X_train, X_test, y_train, y_test = load_data()"
      ],
      "execution_count": null,
      "outputs": []
    },
    {
      "cell_type": "code",
      "metadata": {
        "colab": {
          "base_uri": "https://localhost:8080/"
        },
        "id": "vzczSz9xByMl",
        "outputId": "ad60efe6-f623-4a62-b720-6a74e05a7fbd"
      },
      "source": [
        "timesteps = len(X_train[0])\n",
        "input_dim = len(X_train[0][0])\n",
        "n_classes = _count_classes(y_train)\n",
        "\n",
        "print(timesteps)\n",
        "print(input_dim)\n",
        "print(len(X_train))"
      ],
      "execution_count": null,
      "outputs": [
        {
          "output_type": "stream",
          "text": [
            "128\n",
            "9\n",
            "7352\n"
          ],
          "name": "stdout"
        }
      ]
    },
    {
      "cell_type": "code",
      "metadata": {
        "colab": {
          "base_uri": "https://localhost:8080/"
        },
        "id": "3vDZqd56xXvV",
        "outputId": "3e030553-9592-4661-eb88-1d15602b2029"
      },
      "source": [
        "print(len(X_test))\n",
        "print(len(y_train))\n",
        "print(len(y_test))\n"
      ],
      "execution_count": null,
      "outputs": [
        {
          "output_type": "stream",
          "text": [
            "2947\n",
            "7352\n",
            "2947\n"
          ],
          "name": "stdout"
        }
      ]
    },
    {
      "cell_type": "markdown",
      "metadata": {
        "id": "2Af0YPM0ByMl"
      },
      "source": [
        "- Defining the Architecture of LSTM"
      ]
    },
    {
      "cell_type": "code",
      "metadata": {
        "colab": {
          "base_uri": "https://localhost:8080/"
        },
        "id": "tOsSa26QByMl",
        "outputId": "0e6d2e87-57c3-4b8f-a7d8-acb5e6a7931a"
      },
      "source": [
        "# Initiliazing the sequential model\n",
        "model = Sequential()\n",
        "# Configuring the parameters\n",
        "model.add(LSTM(n_hidden, input_shape=(timesteps, input_dim)))\n",
        "# Adding a dropout layer\n",
        "model.add(Dropout(0.5))\n",
        "# Adding a dense output layer with sigmoid activation\n",
        "model.add(Dense(n_classes, activation='sigmoid'))\n",
        "model.summary()"
      ],
      "execution_count": null,
      "outputs": [
        {
          "output_type": "stream",
          "text": [
            "Model: \"sequential\"\n",
            "_________________________________________________________________\n",
            "Layer (type)                 Output Shape              Param #   \n",
            "=================================================================\n",
            "lstm (LSTM)                  (None, 32)                5376      \n",
            "_________________________________________________________________\n",
            "dropout (Dropout)            (None, 32)                0         \n",
            "_________________________________________________________________\n",
            "dense (Dense)                (None, 6)                 198       \n",
            "=================================================================\n",
            "Total params: 5,574\n",
            "Trainable params: 5,574\n",
            "Non-trainable params: 0\n",
            "_________________________________________________________________\n"
          ],
          "name": "stdout"
        }
      ]
    },
    {
      "cell_type": "code",
      "metadata": {
        "id": "RgNhtmQ-yEcQ"
      },
      "source": [
        ""
      ],
      "execution_count": null,
      "outputs": []
    },
    {
      "cell_type": "code",
      "metadata": {
        "id": "vrEZ9wUy4mTA"
      },
      "source": [
        ""
      ],
      "execution_count": null,
      "outputs": []
    },
    {
      "cell_type": "code",
      "metadata": {
        "id": "tqIvLxpKByMl"
      },
      "source": [
        "# Compiling the model \n",
        "## multi class classification\n",
        "model.compile(loss='categorical_crossentropy',\n",
        "              optimizer='rmsprop',\n",
        "              metrics=['accuracy'])"
      ],
      "execution_count": null,
      "outputs": []
    },
    {
      "cell_type": "code",
      "metadata": {
        "id": "eKQ96hPBDCYr"
      },
      "source": [
        "#tf.keras.backend.clear_session()\n"
      ],
      "execution_count": null,
      "outputs": []
    },
    {
      "cell_type": "code",
      "metadata": {
        "colab": {
          "base_uri": "https://localhost:8080/"
        },
        "id": "3Haru42tByMl",
        "outputId": "8127d308-5080-43dc-86cd-6f1d92dd210f"
      },
      "source": [
        "# Training the model\n",
        "history= model.fit(X_train,\n",
        "          y_train,\n",
        "          batch_size=batch_size,\n",
        "          validation_data=(X_test, y_test),\n",
        "          epochs=epochs)"
      ],
      "execution_count": null,
      "outputs": [
        {
          "output_type": "stream",
          "text": [
            "Epoch 1/30\n",
            "460/460 [==============================] - 4s 9ms/step - loss: 1.2610 - accuracy: 0.4976 - val_loss: 0.9638 - val_accuracy: 0.6281\n",
            "Epoch 2/30\n",
            "460/460 [==============================] - 4s 8ms/step - loss: 0.8944 - accuracy: 0.6193 - val_loss: 0.8874 - val_accuracy: 0.5660\n",
            "Epoch 3/30\n",
            "460/460 [==============================] - 4s 8ms/step - loss: 0.7507 - accuracy: 0.6601 - val_loss: 0.8157 - val_accuracy: 0.6006\n",
            "Epoch 4/30\n",
            "460/460 [==============================] - 4s 8ms/step - loss: 0.6851 - accuracy: 0.6919 - val_loss: 0.6947 - val_accuracy: 0.7279\n",
            "Epoch 5/30\n",
            "460/460 [==============================] - 4s 8ms/step - loss: 0.5816 - accuracy: 0.7884 - val_loss: 0.7826 - val_accuracy: 0.7462\n",
            "Epoch 6/30\n",
            "460/460 [==============================] - 4s 8ms/step - loss: 0.4748 - accuracy: 0.8607 - val_loss: 0.6845 - val_accuracy: 0.7930\n",
            "Epoch 7/30\n",
            "460/460 [==============================] - 4s 8ms/step - loss: 0.3678 - accuracy: 0.8900 - val_loss: 0.5308 - val_accuracy: 0.8582\n",
            "Epoch 8/30\n",
            "460/460 [==============================] - 4s 8ms/step - loss: 0.3130 - accuracy: 0.9000 - val_loss: 0.4477 - val_accuracy: 0.8839\n",
            "Epoch 9/30\n",
            "460/460 [==============================] - 4s 8ms/step - loss: 0.2709 - accuracy: 0.9211 - val_loss: 0.4561 - val_accuracy: 0.8843\n",
            "Epoch 10/30\n",
            "460/460 [==============================] - 4s 8ms/step - loss: 0.2655 - accuracy: 0.9168 - val_loss: 0.3699 - val_accuracy: 0.9002\n",
            "Epoch 11/30\n",
            "460/460 [==============================] - 4s 8ms/step - loss: 0.2448 - accuracy: 0.9236 - val_loss: 0.6515 - val_accuracy: 0.8375\n",
            "Epoch 12/30\n",
            "460/460 [==============================] - 4s 8ms/step - loss: 0.2298 - accuracy: 0.9244 - val_loss: 0.4147 - val_accuracy: 0.8904\n",
            "Epoch 13/30\n",
            "460/460 [==============================] - 4s 8ms/step - loss: 0.2162 - accuracy: 0.9300 - val_loss: 0.4522 - val_accuracy: 0.8860\n",
            "Epoch 14/30\n",
            "460/460 [==============================] - 4s 8ms/step - loss: 0.2041 - accuracy: 0.9334 - val_loss: 0.4249 - val_accuracy: 0.8768\n",
            "Epoch 15/30\n",
            "460/460 [==============================] - 4s 8ms/step - loss: 0.1949 - accuracy: 0.9365 - val_loss: 0.3058 - val_accuracy: 0.9063\n",
            "Epoch 16/30\n",
            "460/460 [==============================] - 4s 8ms/step - loss: 0.1782 - accuracy: 0.9381 - val_loss: 0.3795 - val_accuracy: 0.9053\n",
            "Epoch 17/30\n",
            "460/460 [==============================] - 4s 8ms/step - loss: 0.1828 - accuracy: 0.9414 - val_loss: 0.3072 - val_accuracy: 0.8992\n",
            "Epoch 18/30\n",
            "460/460 [==============================] - 4s 8ms/step - loss: 0.1729 - accuracy: 0.9396 - val_loss: 0.2954 - val_accuracy: 0.9046\n",
            "Epoch 19/30\n",
            "460/460 [==============================] - 4s 8ms/step - loss: 0.2041 - accuracy: 0.9397 - val_loss: 0.4062 - val_accuracy: 0.9006\n",
            "Epoch 20/30\n",
            "460/460 [==============================] - 4s 8ms/step - loss: 0.1625 - accuracy: 0.9429 - val_loss: 0.5494 - val_accuracy: 0.8592\n",
            "Epoch 21/30\n",
            "460/460 [==============================] - 4s 8ms/step - loss: 0.1652 - accuracy: 0.9426 - val_loss: 0.3708 - val_accuracy: 0.9050\n",
            "Epoch 22/30\n",
            "460/460 [==============================] - 4s 8ms/step - loss: 0.1738 - accuracy: 0.9422 - val_loss: 0.3664 - val_accuracy: 0.8951\n",
            "Epoch 23/30\n",
            "460/460 [==============================] - 4s 8ms/step - loss: 0.1610 - accuracy: 0.9433 - val_loss: 0.2778 - val_accuracy: 0.9135\n",
            "Epoch 24/30\n",
            "460/460 [==============================] - 4s 8ms/step - loss: 0.1527 - accuracy: 0.9422 - val_loss: 0.4795 - val_accuracy: 0.9006\n",
            "Epoch 25/30\n",
            "460/460 [==============================] - 4s 8ms/step - loss: 0.1648 - accuracy: 0.9457 - val_loss: 0.4408 - val_accuracy: 0.9023\n",
            "Epoch 26/30\n",
            "460/460 [==============================] - 4s 8ms/step - loss: 0.1501 - accuracy: 0.9450 - val_loss: 0.3217 - val_accuracy: 0.9074\n",
            "Epoch 27/30\n",
            "460/460 [==============================] - 4s 8ms/step - loss: 0.1452 - accuracy: 0.9495 - val_loss: 0.3499 - val_accuracy: 0.9009\n",
            "Epoch 28/30\n",
            "460/460 [==============================] - 4s 8ms/step - loss: 0.1478 - accuracy: 0.9475 - val_loss: 0.3898 - val_accuracy: 0.9070\n",
            "Epoch 29/30\n",
            "460/460 [==============================] - 4s 8ms/step - loss: 0.1422 - accuracy: 0.9482 - val_loss: 0.3620 - val_accuracy: 0.9125\n",
            "Epoch 30/30\n",
            "460/460 [==============================] - 4s 8ms/step - loss: 0.1527 - accuracy: 0.9513 - val_loss: 0.2983 - val_accuracy: 0.9128\n"
          ],
          "name": "stdout"
        }
      ]
    },
    {
      "cell_type": "code",
      "metadata": {
        "id": "7YHkoH9y9imm"
      },
      "source": [
        "\n",
        "model.save(\"/content/drive/MyDrive/DPProject/Model/model1.h5\") "
      ],
      "execution_count": null,
      "outputs": []
    },
    {
      "cell_type": "code",
      "metadata": {
        "colab": {
          "base_uri": "https://localhost:8080/",
          "height": 295
        },
        "id": "XD465YuYzWLL",
        "outputId": "e261f1b0-d644-4f97-fe07-347e9a883fde"
      },
      "source": [
        "import matplotlib.pyplot as plt\n",
        "from keras.utils.vis_utils import plot_model\n",
        "plt.plot(history.history['accuracy'])\n",
        "plt.plot(history.history['val_accuracy'])\n",
        "plt.title('model accuracy')\n",
        "plt.ylabel('accuracy')\n",
        "plt.xlabel('epoch')\n",
        "plt.legend(['train', 'test'], loc='upper left')\n",
        "plt.show()\n",
        "\n"
      ],
      "execution_count": null,
      "outputs": [
        {
          "output_type": "display_data",
          "data": {
            "image/png": "[encoded data removed]",
            "text/plain": [
              "<Figure size 432x288 with 1 Axes>"
            ]
          },
          "metadata": {
            "tags": [],
            "needs_background": "light"
          }
        }
      ]
    },
    {
      "cell_type": "markdown",
      "metadata": {
        "id": "eWUUOVmEByMl"
      },
      "source": [
        ""
      ]
    },
    {
      "cell_type": "code",
      "metadata": {
        "colab": {
          "base_uri": "https://localhost:8080/"
        },
        "id": "CnLxZyJC_Orf",
        "outputId": "6114e9c6-33c0-491e-a956-32a2a65ae416"
      },
      "source": [
        "\n",
        "# Configuring the parameters\n",
        "\n",
        "input = Input(shape=(timesteps, input_dim))\n",
        "lstm = LSTM(n_hidden, return_sequences = True)(input)\n",
        "lstm1 = LSTM(n_hidden, return_sequences = True)(lstm)\n",
        "lstm2 = LSTM(n_hidden, return_sequences = False)(lstm1)\n",
        "\n",
        "dropout=Dropout(0.2)(lstm2)\n",
        "# Adding a dropout layer\n",
        "dense = Dense(n_classes, activation='sigmoid')(dropout)\n",
        "# Adding a dense output layer with sigmoid activation\n",
        "model2=Model(inputs=input,outputs=dense)\n",
        "model2.summary()"
      ],
      "execution_count": null,
      "outputs": [
        {
          "output_type": "stream",
          "text": [
            "Model: \"functional_1\"\n",
            "_________________________________________________________________\n",
            "Layer (type)                 Output Shape              Param #   \n",
            "=================================================================\n",
            "input_1 (InputLayer)         [(None, 128, 9)]          0         \n",
            "_________________________________________________________________\n",
            "lstm_1 (LSTM)                (None, 128, 32)           5376      \n",
            "_________________________________________________________________\n",
            "lstm_2 (LSTM)                (None, 128, 32)           8320      \n",
            "_________________________________________________________________\n",
            "lstm_3 (LSTM)                (None, 32)                8320      \n",
            "_________________________________________________________________\n",
            "dropout_1 (Dropout)          (None, 32)                0         \n",
            "_________________________________________________________________\n",
            "dense_1 (Dense)              (None, 6)                 198       \n",
            "=================================================================\n",
            "Total params: 22,214\n",
            "Trainable params: 22,214\n",
            "Non-trainable params: 0\n",
            "_________________________________________________________________\n"
          ],
          "name": "stdout"
        }
      ]
    },
    {
      "cell_type": "code",
      "metadata": {
        "id": "osOYyejdBMHx"
      },
      "source": [
        "model2.compile(loss='categorical_crossentropy',\n",
        "              optimizer='rmsprop',\n",
        "              metrics=['accuracy'])"
      ],
      "execution_count": null,
      "outputs": []
    },
    {
      "cell_type": "code",
      "metadata": {
        "id": "QloXbJvHBNLQ",
        "colab": {
          "base_uri": "https://localhost:8080/"
        },
        "outputId": "b2fc898b-6127-48d8-b1fd-d9a7ddef9697"
      },
      "source": [
        "history1= model2.fit(X_train,\n",
        "          y_train,\n",
        "          batch_size=batch_size,\n",
        "          validation_data=(X_test, y_test),\n",
        "          epochs=epochs)"
      ],
      "execution_count": null,
      "outputs": [
        {
          "output_type": "stream",
          "text": [
            "Epoch 1/30\n",
            "460/460 [==============================] - 9s 20ms/step - loss: 1.0366 - accuracy: 0.5567 - val_loss: 0.8333 - val_accuracy: 0.6098\n",
            "Epoch 2/30\n",
            "460/460 [==============================] - 8s 18ms/step - loss: 0.5885 - accuracy: 0.7890 - val_loss: 0.5881 - val_accuracy: 0.8073\n",
            "Epoch 3/30\n",
            "460/460 [==============================] - 8s 18ms/step - loss: 0.3514 - accuracy: 0.8927 - val_loss: 0.5063 - val_accuracy: 0.8395\n",
            "Epoch 4/30\n",
            "460/460 [==============================] - 8s 18ms/step - loss: 0.2371 - accuracy: 0.9168 - val_loss: 0.3562 - val_accuracy: 0.8897\n",
            "Epoch 5/30\n",
            "460/460 [==============================] - 8s 18ms/step - loss: 0.2006 - accuracy: 0.9317 - val_loss: 0.4555 - val_accuracy: 0.8839\n",
            "Epoch 6/30\n",
            "460/460 [==============================] - 8s 18ms/step - loss: 0.1683 - accuracy: 0.9436 - val_loss: 0.4064 - val_accuracy: 0.8951\n",
            "Epoch 7/30\n",
            "460/460 [==============================] - 8s 18ms/step - loss: 0.1649 - accuracy: 0.9426 - val_loss: 0.3787 - val_accuracy: 0.8972\n",
            "Epoch 8/30\n",
            "460/460 [==============================] - 8s 18ms/step - loss: 0.1575 - accuracy: 0.9442 - val_loss: 0.3299 - val_accuracy: 0.9046\n",
            "Epoch 9/30\n",
            "460/460 [==============================] - 8s 18ms/step - loss: 0.1327 - accuracy: 0.9513 - val_loss: 0.3762 - val_accuracy: 0.9091\n",
            "Epoch 10/30\n",
            "460/460 [==============================] - 8s 18ms/step - loss: 0.1599 - accuracy: 0.9460 - val_loss: 0.4629 - val_accuracy: 0.9009\n",
            "Epoch 11/30\n",
            "460/460 [==============================] - 8s 18ms/step - loss: 0.1297 - accuracy: 0.9498 - val_loss: 0.3933 - val_accuracy: 0.9033\n",
            "Epoch 12/30\n",
            "460/460 [==============================] - 8s 18ms/step - loss: 0.1560 - accuracy: 0.9476 - val_loss: 0.4633 - val_accuracy: 0.8962\n",
            "Epoch 13/30\n",
            "460/460 [==============================] - 9s 19ms/step - loss: 0.1315 - accuracy: 0.9523 - val_loss: 0.4011 - val_accuracy: 0.9036\n",
            "Epoch 14/30\n",
            "460/460 [==============================] - 8s 18ms/step - loss: 0.1309 - accuracy: 0.9508 - val_loss: 0.4625 - val_accuracy: 0.8979\n",
            "Epoch 15/30\n",
            "460/460 [==============================] - 8s 18ms/step - loss: 0.1372 - accuracy: 0.9495 - val_loss: 0.4681 - val_accuracy: 0.9033\n",
            "Epoch 16/30\n",
            "460/460 [==============================] - 8s 18ms/step - loss: 0.1248 - accuracy: 0.9506 - val_loss: 0.6730 - val_accuracy: 0.8724\n",
            "Epoch 17/30\n",
            "460/460 [==============================] - 8s 18ms/step - loss: 0.1409 - accuracy: 0.9505 - val_loss: 0.5280 - val_accuracy: 0.8965\n",
            "Epoch 18/30\n",
            "460/460 [==============================] - 8s 18ms/step - loss: 0.1296 - accuracy: 0.9518 - val_loss: 0.4798 - val_accuracy: 0.9006\n",
            "Epoch 19/30\n",
            "460/460 [==============================] - 8s 18ms/step - loss: 0.1257 - accuracy: 0.9528 - val_loss: 0.5188 - val_accuracy: 0.9002\n",
            "Epoch 20/30\n",
            "460/460 [==============================] - 8s 18ms/step - loss: 0.1304 - accuracy: 0.9528 - val_loss: 0.5041 - val_accuracy: 0.8955\n",
            "Epoch 21/30\n",
            "460/460 [==============================] - 8s 18ms/step - loss: 0.1302 - accuracy: 0.9520 - val_loss: 0.4429 - val_accuracy: 0.9070\n",
            "Epoch 22/30\n",
            "460/460 [==============================] - 8s 18ms/step - loss: 0.1186 - accuracy: 0.9553 - val_loss: 0.4880 - val_accuracy: 0.9050\n",
            "Epoch 23/30\n",
            "460/460 [==============================] - 8s 18ms/step - loss: 0.1363 - accuracy: 0.9551 - val_loss: 0.5501 - val_accuracy: 0.8962\n",
            "Epoch 24/30\n",
            "460/460 [==============================] - 8s 18ms/step - loss: 0.1246 - accuracy: 0.9531 - val_loss: 0.5895 - val_accuracy: 0.8958\n",
            "Epoch 25/30\n",
            "460/460 [==============================] - 8s 18ms/step - loss: 0.1277 - accuracy: 0.9546 - val_loss: 0.5118 - val_accuracy: 0.8996\n",
            "Epoch 26/30\n",
            "460/460 [==============================] - 8s 18ms/step - loss: 0.1208 - accuracy: 0.9539 - val_loss: 0.5145 - val_accuracy: 0.8985\n",
            "Epoch 27/30\n",
            "460/460 [==============================] - 8s 18ms/step - loss: 0.1276 - accuracy: 0.9546 - val_loss: 0.4195 - val_accuracy: 0.9114\n",
            "Epoch 28/30\n",
            "460/460 [==============================] - 8s 18ms/step - loss: 0.1260 - accuracy: 0.9532 - val_loss: 0.3816 - val_accuracy: 0.9019\n",
            "Epoch 29/30\n",
            "460/460 [==============================] - 8s 18ms/step - loss: 0.1166 - accuracy: 0.9561 - val_loss: 0.3959 - val_accuracy: 0.9118\n",
            "Epoch 30/30\n",
            "460/460 [==============================] - 9s 20ms/step - loss: 0.1212 - accuracy: 0.9516 - val_loss: 0.4709 - val_accuracy: 0.9013\n"
          ],
          "name": "stdout"
        }
      ]
    },
    {
      "cell_type": "code",
      "metadata": {
        "id": "wRUsZZl3BUrj"
      },
      "source": [
        "model2.save(\"/content/drive/MyDrive/DPProject/Model/model2.h5\") "
      ],
      "execution_count": null,
      "outputs": []
    },
    {
      "cell_type": "code",
      "metadata": {
        "id": "AdZTHJPeBxt2",
        "colab": {
          "base_uri": "https://localhost:8080/",
          "height": 295
        },
        "outputId": "a6f047c4-c0aa-4cf2-df8f-2b36dbe691ab"
      },
      "source": [
        "plt.plot(history1.history['accuracy'])\n",
        "plt.plot(history1.history['val_accuracy'])\n",
        "plt.title('model accuracy')\n",
        "plt.ylabel('accuracy')\n",
        "plt.xlabel('epoch')\n",
        "plt.legend(['train', 'test'], loc='upper left')\n",
        "plt.show()\n"
      ],
      "execution_count": null,
      "outputs": [
        {
          "output_type": "display_data",
          "data": {
            "image/png": "[encoded data removed]",
            "text/plain": [
              "<Figure size 432x288 with 1 Axes>"
            ]
          },
          "metadata": {
            "tags": [],
            "needs_background": "light"
          }
        }
      ]
    },
    {
      "cell_type": "markdown",
      "metadata": {
        "id": "Ul2EQnU0Byh_"
      },
      "source": [
        "## Evaluation"
      ]
    },
    {
      "cell_type": "code",
      "metadata": {
        "id": "uxDEOY5c9xQH"
      },
      "source": [
        "loaded_model1 = load_model(\"/content/drive/MyDrive/DPProject/Model/model1.h5\") "
      ],
      "execution_count": null,
      "outputs": []
    },
    {
      "cell_type": "code",
      "metadata": {
        "colab": {
          "base_uri": "https://localhost:8080/",
          "height": 266
        },
        "id": "igBY3sO1ByMl",
        "outputId": "e61cbd39-18b4-4c0f-b453-40aa25e2fef9"
      },
      "source": [
        "# Confusion Matrix\n",
        "confusion_matrix(y_test, loaded_model1.predict(X_test))"
      ],
      "execution_count": null,
      "outputs": [
        {
          "output_type": "execute_result",
          "data": {
            "text/html": [
              "<div>\n",
              "<style scoped>\n",
              "    .dataframe tbody tr th:only-of-type {\n",
              "        vertical-align: middle;\n",
              "    }\n",
              "\n",
              "    .dataframe tbody tr th {\n",
              "        vertical-align: top;\n",
              "    }\n",
              "\n",
              "    .dataframe thead th {\n",
              "        text-align: right;\n",
              "    }\n",
              "</style>\n",
              "<table border=\"1\" class=\"dataframe\">\n",
              "  <thead>\n",
              "    <tr style=\"text-align: right;\">\n",
              "      <th>Pred</th>\n",
              "      <th>LAYING</th>\n",
              "      <th>SITTING</th>\n",
              "      <th>STANDING</th>\n",
              "      <th>WALKING</th>\n",
              "      <th>WALKING_DOWNSTAIRS</th>\n",
              "      <th>WALKING_UPSTAIRS</th>\n",
              "    </tr>\n",
              "    <tr>\n",
              "      <th>True</th>\n",
              "      <th></th>\n",
              "      <th></th>\n",
              "      <th></th>\n",
              "      <th></th>\n",
              "      <th></th>\n",
              "      <th></th>\n",
              "    </tr>\n",
              "  </thead>\n",
              "  <tbody>\n",
              "    <tr>\n",
              "      <th>LAYING</th>\n",
              "      <td>510</td>\n",
              "      <td>0</td>\n",
              "      <td>27</td>\n",
              "      <td>0</td>\n",
              "      <td>0</td>\n",
              "      <td>0</td>\n",
              "    </tr>\n",
              "    <tr>\n",
              "      <th>SITTING</th>\n",
              "      <td>0</td>\n",
              "      <td>415</td>\n",
              "      <td>75</td>\n",
              "      <td>0</td>\n",
              "      <td>0</td>\n",
              "      <td>1</td>\n",
              "    </tr>\n",
              "    <tr>\n",
              "      <th>STANDING</th>\n",
              "      <td>0</td>\n",
              "      <td>111</td>\n",
              "      <td>420</td>\n",
              "      <td>1</td>\n",
              "      <td>0</td>\n",
              "      <td>0</td>\n",
              "    </tr>\n",
              "    <tr>\n",
              "      <th>WALKING</th>\n",
              "      <td>0</td>\n",
              "      <td>0</td>\n",
              "      <td>0</td>\n",
              "      <td>488</td>\n",
              "      <td>7</td>\n",
              "      <td>1</td>\n",
              "    </tr>\n",
              "    <tr>\n",
              "      <th>WALKING_DOWNSTAIRS</th>\n",
              "      <td>0</td>\n",
              "      <td>0</td>\n",
              "      <td>0</td>\n",
              "      <td>25</td>\n",
              "      <td>394</td>\n",
              "      <td>1</td>\n",
              "    </tr>\n",
              "    <tr>\n",
              "      <th>WALKING_UPSTAIRS</th>\n",
              "      <td>0</td>\n",
              "      <td>0</td>\n",
              "      <td>0</td>\n",
              "      <td>8</td>\n",
              "      <td>0</td>\n",
              "      <td>463</td>\n",
              "    </tr>\n",
              "  </tbody>\n",
              "</table>\n",
              "</div>"
            ],
            "text/plain": [
              "Pred                LAYING  SITTING  ...  WALKING_DOWNSTAIRS  WALKING_UPSTAIRS\n",
              "True                                 ...                                      \n",
              "LAYING                 510        0  ...                   0                 0\n",
              "SITTING                  0      415  ...                   0                 1\n",
              "STANDING                 0      111  ...                   0                 0\n",
              "WALKING                  0        0  ...                   7                 1\n",
              "WALKING_DOWNSTAIRS       0        0  ...                 394                 1\n",
              "WALKING_UPSTAIRS         0        0  ...                   0               463\n",
              "\n",
              "[6 rows x 6 columns]"
            ]
          },
          "metadata": {
            "tags": []
          },
          "execution_count": 44
        }
      ]
    },
    {
      "cell_type": "code",
      "metadata": {
        "colab": {
          "base_uri": "https://localhost:8080/"
        },
        "id": "5-dMwHUSByMl",
        "outputId": "350154b9-fc65-40c7-d5d8-e2896b94566f"
      },
      "source": [
        "score1 = loaded_model1.evaluate(X_test, y_test)\n",
        "score1[1]"
      ],
      "execution_count": null,
      "outputs": [
        {
          "output_type": "stream",
          "text": [
            "93/93 [==============================] - 0s 4ms/step - loss: 0.2983 - accuracy: 0.9128\n"
          ],
          "name": "stdout"
        },
        {
          "output_type": "execute_result",
          "data": {
            "text/plain": [
              "0.9127926826477051"
            ]
          },
          "metadata": {
            "tags": []
          },
          "execution_count": 45
        }
      ]
    },
    {
      "cell_type": "code",
      "metadata": {
        "id": "Gt4kgNCKBajL"
      },
      "source": [
        "loaded_model2 = load_model(\"/content/drive/MyDrive/DPProject/Model/model2.h5\") "
      ],
      "execution_count": null,
      "outputs": []
    },
    {
      "cell_type": "code",
      "metadata": {
        "id": "JDs5Yua6Bs_R",
        "colab": {
          "base_uri": "https://localhost:8080/",
          "height": 266
        },
        "outputId": "7746e18f-ac0c-45fc-9232-2f4d055ab3e7"
      },
      "source": [
        "confusion_matrix(y_test, loaded_model2.predict(X_test))"
      ],
      "execution_count": null,
      "outputs": [
        {
          "output_type": "execute_result",
          "data": {
            "text/html": [
              "<div>\n",
              "<style scoped>\n",
              "    .dataframe tbody tr th:only-of-type {\n",
              "        vertical-align: middle;\n",
              "    }\n",
              "\n",
              "    .dataframe tbody tr th {\n",
              "        vertical-align: top;\n",
              "    }\n",
              "\n",
              "    .dataframe thead th {\n",
              "        text-align: right;\n",
              "    }\n",
              "</style>\n",
              "<table border=\"1\" class=\"dataframe\">\n",
              "  <thead>\n",
              "    <tr style=\"text-align: right;\">\n",
              "      <th>Pred</th>\n",
              "      <th>LAYING</th>\n",
              "      <th>SITTING</th>\n",
              "      <th>STANDING</th>\n",
              "      <th>WALKING</th>\n",
              "      <th>WALKING_DOWNSTAIRS</th>\n",
              "      <th>WALKING_UPSTAIRS</th>\n",
              "    </tr>\n",
              "    <tr>\n",
              "      <th>True</th>\n",
              "      <th></th>\n",
              "      <th></th>\n",
              "      <th></th>\n",
              "      <th></th>\n",
              "      <th></th>\n",
              "      <th></th>\n",
              "    </tr>\n",
              "  </thead>\n",
              "  <tbody>\n",
              "    <tr>\n",
              "      <th>LAYING</th>\n",
              "      <td>510</td>\n",
              "      <td>0</td>\n",
              "      <td>27</td>\n",
              "      <td>0</td>\n",
              "      <td>0</td>\n",
              "      <td>0</td>\n",
              "    </tr>\n",
              "    <tr>\n",
              "      <th>SITTING</th>\n",
              "      <td>6</td>\n",
              "      <td>394</td>\n",
              "      <td>90</td>\n",
              "      <td>0</td>\n",
              "      <td>0</td>\n",
              "      <td>1</td>\n",
              "    </tr>\n",
              "    <tr>\n",
              "      <th>STANDING</th>\n",
              "      <td>0</td>\n",
              "      <td>100</td>\n",
              "      <td>431</td>\n",
              "      <td>0</td>\n",
              "      <td>0</td>\n",
              "      <td>1</td>\n",
              "    </tr>\n",
              "    <tr>\n",
              "      <th>WALKING</th>\n",
              "      <td>0</td>\n",
              "      <td>0</td>\n",
              "      <td>2</td>\n",
              "      <td>458</td>\n",
              "      <td>9</td>\n",
              "      <td>27</td>\n",
              "    </tr>\n",
              "    <tr>\n",
              "      <th>WALKING_DOWNSTAIRS</th>\n",
              "      <td>0</td>\n",
              "      <td>0</td>\n",
              "      <td>0</td>\n",
              "      <td>6</td>\n",
              "      <td>402</td>\n",
              "      <td>12</td>\n",
              "    </tr>\n",
              "    <tr>\n",
              "      <th>WALKING_UPSTAIRS</th>\n",
              "      <td>0</td>\n",
              "      <td>0</td>\n",
              "      <td>0</td>\n",
              "      <td>10</td>\n",
              "      <td>0</td>\n",
              "      <td>461</td>\n",
              "    </tr>\n",
              "  </tbody>\n",
              "</table>\n",
              "</div>"
            ],
            "text/plain": [
              "Pred                LAYING  SITTING  ...  WALKING_DOWNSTAIRS  WALKING_UPSTAIRS\n",
              "True                                 ...                                      \n",
              "LAYING                 510        0  ...                   0                 0\n",
              "SITTING                  6      394  ...                   0                 1\n",
              "STANDING                 0      100  ...                   0                 1\n",
              "WALKING                  0        0  ...                   9                27\n",
              "WALKING_DOWNSTAIRS       0        0  ...                 402                12\n",
              "WALKING_UPSTAIRS         0        0  ...                   0               461\n",
              "\n",
              "[6 rows x 6 columns]"
            ]
          },
          "metadata": {
            "tags": []
          },
          "execution_count": 47
        }
      ]
    },
    {
      "cell_type": "code",
      "metadata": {
        "id": "sdNBveOcCMLv",
        "colab": {
          "base_uri": "https://localhost:8080/"
        },
        "outputId": "2c09664e-225f-4ab4-cf81-a204f9e793fe"
      },
      "source": [
        "score2 = loaded_model2.evaluate(X_test, y_test)\n",
        "score2[1]"
      ],
      "execution_count": null,
      "outputs": [
        {
          "output_type": "stream",
          "text": [
            "93/93 [==============================] - 1s 9ms/step - loss: 0.4709 - accuracy: 0.9013\n"
          ],
          "name": "stdout"
        },
        {
          "output_type": "execute_result",
          "data": {
            "text/plain": [
              "0.9012554883956909"
            ]
          },
          "metadata": {
            "tags": []
          },
          "execution_count": 48
        }
      ]
    }
  ]
}